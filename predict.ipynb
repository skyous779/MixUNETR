{
 "cells": [
  {
   "cell_type": "code",
   "execution_count": 1,
   "metadata": {},
   "outputs": [
    {
     "name": "stderr",
     "output_type": "stream",
     "text": [
      "/home/skyous/.conda/envs/timm/lib/python3.8/site-packages/tqdm/auto.py:21: TqdmWarning: IProgress not found. Please update jupyter and ipywidgets. See https://ipywidgets.readthedocs.io/en/stable/user_install.html\n",
      "  from .autonotebook import tqdm as notebook_tqdm\n"
     ]
    }
   ],
   "source": [
    "import monai\n",
    "import ignite\n",
    "import os\n",
    "\n",
    "\n",
    "from prostate158.utils import load_config\n",
    "from prostate158.train import SegmentationTrainer\n",
    "# from prostate158.report import ReportGenerator\n",
    "# from prostate158.viewer import ListViewer\n",
    "from prostate158.data import segmentation_dataloaders\n",
    "os.environ[\"CUDA_VISIBLE_DEVICES\"] = \"0\""
   ]
  },
  {
   "cell_type": "code",
   "execution_count": 10,
   "metadata": {},
   "outputs": [
    {
     "name": "stdout",
     "output_type": "stream",
     "text": [
      "southHP_predict/all_v3.csv\n"
     ]
    }
   ],
   "source": [
    "# 加载配置文件\n",
    "config_path = 'config/southHP/anatomy_swinunetr_48.yaml'\n",
    "model_pth_path = '/home/data1/skyous/prostate158_log/checkpoint/swinunetr_0.8233.pt'\n",
    "config = load_config(config_path) # change to 'tumor.yaml' for tumor segmentation\n",
    "monai.utils.set_determinism(seed=config.seed)\n",
    "config.data.valid_csv = 'southHP_predict/all_v3.csv'\n",
    "config.data.train_csv = 'southHP_predict/all_v3.csv'\n",
    "config.data.test_csv = 'southHP_predict/all_v3.csv'\n",
    "# config.out_dir = 'southHP_predict_config'\n",
    "\n",
    "\n",
    "config.data.data_dir = '/home/data1/skyous/SouthHP_prostate/sort_crop'\n",
    "config.data.cache_dir = './tmp/monai-cache'\n",
    "\n",
    "# config.data.valid_csv = '/home/data1/skyous/prostate158/prostate158_test/test.csv'\n",
    "print(config.data.valid_csv)"
   ]
  },
  {
   "cell_type": "code",
   "execution_count": 11,
   "metadata": {},
   "outputs": [
    {
     "name": "stderr",
     "output_type": "stream",
     "text": [
      "/home/skyous/.conda/envs/timm/lib/python3.8/site-packages/monai/utils/deprecate_utils.py:321: FutureWarning: monai.transforms.io.dictionary LoadImaged.__init__:image_only: Current default value of argument `image_only=False` has been deprecated since version 1.1. It will be changed to `image_only=True` in version 1.3.\n",
      "  warn_deprecated(argname, msg, warning_category)\n",
      "/home/skyous/.conda/envs/timm/lib/python3.8/site-packages/monai/utils/deprecate_utils.py:321: FutureWarning: monai.transforms.io.dictionary LoadImaged.__init__:image_only: Current default value of argument `image_only=False` has been deprecated since version 1.1. It will be changed to `image_only=True` in version 1.3.\n",
      "  warn_deprecated(argname, msg, warning_category)\n",
      "/home/skyous/.conda/envs/timm/lib/python3.8/site-packages/torch/functional.py:504: UserWarning: torch.meshgrid: in an upcoming release, it will be required to pass the indexing argument. (Triggered internally at ../aten/src/ATen/native/TensorShape.cpp:3483.)\n",
      "  return _VF.meshgrid(tensors, **kwargs)  # type: ignore[attr-defined]\n",
      "/home/skyous/.conda/envs/timm/lib/python3.8/site-packages/monai/utils/deprecate_utils.py:321: FutureWarning: monai.handlers.stats_handler StatsHandler.__init__:name: Current default value of argument `name=None` has been deprecated since version 1.1. It will be changed to `name=StatsHandler` in version 1.3.\n",
      "  warn_deprecated(argname, msg, warning_category)\n",
      "                                                  50<00:00]"
     ]
    },
    {
     "name": "stdout",
     "output_type": "stream",
     "text": [
      "metrics saved to /home/skyous/git/prostate158/southHP_predict/nnformer/anatomyprostate15820240322_0927_nnformer_1/output\n"
     ]
    },
    {
     "name": "stderr",
     "output_type": "stream",
     "text": [
      "\r"
     ]
    }
   ],
   "source": [
    "test_loader=segmentation_dataloaders(\n",
    "            config=config, \n",
    "            train=False, \n",
    "            valid=False, \n",
    "            test=True\n",
    "        )\n",
    "\n",
    "trainer=SegmentationTrainer(\n",
    "    progress_bar=True, \n",
    "    early_stopping = True, \n",
    "    metrics = [\"MeanDice\", \"HausdorffDistance\", \"SurfaceDistance\"],\n",
    "    save_latest_metrics = True,\n",
    "    config=config\n",
    ")\n",
    "trainer.evaluate(checkpoint=model_pth_path)"
   ]
  },
  {
   "cell_type": "code",
   "execution_count": 12,
   "metadata": {},
   "outputs": [
    {
     "name": "stdout",
     "output_type": "stream",
     "text": [
      "class0 0.752\n",
      "class1 0.5074\n",
      "mean 0.6297\n",
      "class0 24.47\n",
      "class1 39.01\n",
      "mean 31.74\n",
      "class0 5.56\n",
      "class1 6.95\n",
      "mean 6.26\n",
      "|0.752|0.5074|0.6297|24.47|39.01|31.74|5.56|6.95|6.26|/home/skyous/git/prostate158/southHP_predict/nnformer/anatomyprostate15820240322_0927_nnformer_1/output|\n"
     ]
    },
    {
     "ename": "",
     "evalue": "",
     "output_type": "error",
     "traceback": [
      "\u001b[1;31m在当前单元格或上一个单元格中执行代码时 Kernel 崩溃。\n",
      "\u001b[1;31m请查看单元格中的代码，以确定故障的可能原因。\n",
      "\u001b[1;31m单击<a href='https://aka.ms/vscodeJupyterKernelCrash'>此处</a>了解详细信息。\n",
      "\u001b[1;31m有关更多详细信息，请查看 Jupyter <a href='command:jupyter.viewOutput'>log</a>。"
     ]
    }
   ],
   "source": [
    "import pandas as pd\n",
    "import os\n",
    "\n",
    "output_dir = '/home/skyous/git/prostate158/southHP_predict/nnformer/anatomyprostate15820240322_0927_nnformer_1/output'\n",
    "# 读取CSV文件\n",
    "DSC_data = pd.read_csv(os.path.join(output_dir, 'MeanDice_raw.csv'))\n",
    "HD_data = pd.read_csv(os.path.join(output_dir, 'HausdorffDistance_raw.csv'))\n",
    "SD_data = pd.read_csv(os.path.join(output_dir, 'SurfaceDistance_raw.csv'))\n",
    "\n",
    "output_ = '|'\n",
    "\n",
    "for data in [DSC_data, HD_data, SD_data]:\n",
    "    # 获取某一列的数值\n",
    "\n",
    "    for item in ['class0', 'class1', 'mean']:\n",
    "        column_values = data[item]\n",
    "\n",
    "        # 计算平均值\n",
    "        average = column_values.mean()\n",
    "        if data is DSC_data:\n",
    "            average = round(average, 4)\n",
    "        else:\n",
    "            average = round(average, 2)\n",
    "        print(item, average)\n",
    "        output_ += str(average) + '|'\n",
    "\n",
    "output_ += output_dir + '|'\n",
    "print(output_)"
   ]
  },
  {
   "cell_type": "markdown",
   "metadata": {},
   "source": [
    "|3dunet|0.7712|0.5376|0.6544|22.27|37.2|29.74|4.96|5.33|5.14|southHP_predict/3dunet/output|\n",
    "|3dresunet|0.7969|0.616|0.7064|20.45|33.91|27.18|4.15|4.93|4.54|southHP_predict/3dresunet/anatomyprostate15820240322_0923_3dunet_1/output|\n",
    "|nnunet|0.752|0.5074|0.6297|24.47|39.01|31.74|5.56|6.95|6.26|/home/skyous/git/prostate158/southHP_predict/nnformer/anatomyprostate15820240322_0927_nnformer_1/output|\n"
   ]
  }
 ],
 "metadata": {
  "kernelspec": {
   "display_name": "timm",
   "language": "python",
   "name": "python3"
  },
  "language_info": {
   "codemirror_mode": {
    "name": "ipython",
    "version": 3
   },
   "file_extension": ".py",
   "mimetype": "text/x-python",
   "name": "python",
   "nbconvert_exporter": "python",
   "pygments_lexer": "ipython3",
   "version": "3.8.17"
  }
 },
 "nbformat": 4,
 "nbformat_minor": 2
}
