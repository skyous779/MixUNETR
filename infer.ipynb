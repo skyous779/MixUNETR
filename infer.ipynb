{
 "cells": [
  {
   "cell_type": "code",
   "execution_count": 1,
   "metadata": {},
   "outputs": [],
   "source": [
    "import os\n",
    "import torch\n",
    "\n",
    "from glob import glob\n",
    "from monai.data import Dataset, DataLoader, decollate_batch\n",
    "from monai.inferers import sliding_window_inference\n",
    "from monai.transforms import (\n",
    "    Spacingd,\n",
    "    AsDiscreted,\n",
    "    Compose,\n",
    "    EnsureChannelFirstd,\n",
    "    Invertd,\n",
    "    LoadImaged,\n",
    "    Orientationd,\n",
    "    ScaleIntensityd,\n",
    "    KeepLargestConnectedComponentd,\n",
    "    SaveImaged,\n",
    "    NormalizeIntensityd\n",
    ")\n",
    "from monai.networks.layers.factories import Act, Norm\n",
    "from tqdm import tqdm"
   ]
  },
  {
   "cell_type": "code",
   "execution_count": 2,
   "metadata": {},
   "outputs": [],
   "source": [
    "os.environ[\"CUDA_VISIBLE_DEVICES\"] = \"0\""
   ]
  },
  {
   "cell_type": "code",
   "execution_count": 3,
   "metadata": {},
   "outputs": [
    {
     "name": "stderr",
     "output_type": "stream",
     "text": [
      "/home/skyous/.conda/envs/timm/lib/python3.8/site-packages/tqdm/auto.py:21: TqdmWarning: IProgress not found. Please update jupyter and ipywidgets. See https://ipywidgets.readthedocs.io/en/stable/user_install.html\n",
      "  from .autonotebook import tqdm as notebook_tqdm\n"
     ]
    }
   ],
   "source": [
    "from monai.networks.nets import UNet\n",
    "from prostate158.network.unetr import UNETR\n",
    "from monai.networks.nets import SwinUNETR\n",
    "from prostate158.network.nnFormer.nnFormer_seg import nnFormer\n",
    "from prostate158.network.UXNet_3D.network_backbone import UXNET\n",
    "from prostate158.network.mixformer.mixing_unetr_qkv import MixingUNETR \n",
    "\n",
    "device = torch.device(\"cuda\" if torch.cuda.is_available() else \"cpu\")\n",
    "\n"
   ]
  },
  {
   "cell_type": "code",
   "execution_count": 4,
   "metadata": {},
   "outputs": [],
   "source": [
    "def get_model(network):\n",
    "\n",
    "    # mixunetr系列\n",
    "    if network == \"mixunetr\":\n",
    "        return MixingUNETR(\n",
    "                img_size=(96, 96, 96),\n",
    "                depths=[2,2,2,2],\n",
    "                in_channels=1,\n",
    "                out_channels=3,\n",
    "                feature_size=48,\n",
    "            )\n",
    "\n",
    "    \n",
    "    # unetr系列\n",
    "    elif network == \"unetr\":\n",
    "        return UNETR(\n",
    "                in_channels=1,\n",
    "                out_channels=3,\n",
    "                img_size=(96,96,96),\n",
    "                feature_size=48,\n",
    "                hidden_size=768,\n",
    "                mlp_dim=3072,\n",
    "                num_heads=12,\n",
    "                pos_embed=\"perceptron\",\n",
    "                norm_name=\"instance\",\n",
    "                conv_block=True,\n",
    "                res_block=True,\n",
    "                dropout_rate=0.0,\n",
    "            )\n",
    "    elif network == '3dunet':\n",
    "        return UNet(\n",
    "            spatial_dims=3,\n",
    "            in_channels=1,\n",
    "            out_channels=3,\n",
    "            channels=[16, 32, 64, 128, 256, 512],\n",
    "            strides=[2, 2, 2, 2, 2],\n",
    "            num_res_units=0,\n",
    "            act='PRELU',\n",
    "            norm='BATCH',\n",
    "            dropout=0.15,\n",
    "                )\n",
    "    elif network == '3dresunet':\n",
    "        return UNet(\n",
    "            spatial_dims=3,\n",
    "            in_channels=1,\n",
    "            out_channels=3,\n",
    "            channels=[16, 32, 64, 128, 256, 512],\n",
    "            strides=[2, 2, 2, 2, 2],\n",
    "            num_res_units=4,\n",
    "            act='PRELU',\n",
    "            norm='BATCH',\n",
    "            dropout=0.15,\n",
    "                )\n",
    "    # nnformer系列\n",
    "    elif network == \"nnformer\":\n",
    "        return nnFormer(\n",
    "            input_channels=1,\n",
    "            num_classes=3,\n",
    "            )\n",
    "    \n",
    "    elif network == \"swinunetr\":\n",
    "        return SwinUNETR(\n",
    "                in_channels=1,\n",
    "                out_channels=3,\n",
    "                depths=[2,2,2,2],\n",
    "                img_size=(96,96,96),\n",
    "                feature_size=48,\n",
    "            )        \n",
    "    elif network == \"uxnet\":\n",
    "        return UXNET(\n",
    "                in_chans=1,\n",
    "                out_chans=3,\n",
    "                depths=[2, 2, 2, 2],\n",
    "                feat_size=[48, 96, 192, 384],\n",
    "                drop_path_rate=0,\n",
    "                layer_scale_init_value=1e-6,\n",
    "                spatial_dims=3,\n",
    "            )"
   ]
  },
  {
   "cell_type": "code",
   "execution_count": 5,
   "metadata": {},
   "outputs": [],
   "source": [
    "def main(tempdir, net, output_dir= ''):\n",
    "\n",
    "    images = sorted(glob(os.path.join(tempdir, \"*.nii.gz\")))\n",
    "    files = [{\"img\": img} for img in images]\n",
    "\n",
    "    # define pre transforms\n",
    "    pre_transforms = Compose(\n",
    "        [\n",
    "            LoadImaged(keys=\"img\"),\n",
    "            EnsureChannelFirstd(keys=\"img\"),\n",
    "            Orientationd(keys=\"img\", axcodes=\"RAS\"),\n",
    "            Spacingd(keys=\"img\", pixdim=[0.5, 0.5, 0.5]),\n",
    "            ScaleIntensityd(keys=\"img\", minv=0, maxv=1),\n",
    "            NormalizeIntensityd(keys=\"img\"),\n",
    "        ]\n",
    "    )\n",
    "    # define dataset and dataloader\n",
    "    dataset = Dataset(data=files, transform=pre_transforms)\n",
    "    dataloader = DataLoader(dataset, batch_size=1, num_workers=4)\n",
    "    # define post transforms\n",
    "    post_transforms = Compose(\n",
    "        [\n",
    "            AsDiscreted(\n",
    "                keys=\"pred\", \n",
    "                argmax=True, \n",
    "                # to_onehot=3, \n",
    "                num_classes=3\n",
    "            ),\n",
    "            KeepLargestConnectedComponentd(\n",
    "                keys=\"pred\", \n",
    "                applied_labels=list(range(1, 3))\n",
    "            ),\n",
    "            Invertd(\n",
    "                keys=\"pred\",  # invert the `pred` data field, also support multiple fields\n",
    "                transform=pre_transforms,\n",
    "                orig_keys=\"img\",  # get the previously applied pre_transforms information on the `img` data field,\n",
    "                # then invert `pred` based on this information. we can use same info\n",
    "                # for multiple fields, also support different orig_keys for different fields\n",
    "                nearest_interp=True,  # don't change the interpolation mode to \"nearest\" when inverting transforms\n",
    "                # to ensure a smooth output, then execute `AsDiscreted` transform\n",
    "                to_tensor=True,  # convert to PyTorch Tensor after inverting\n",
    "            ),\n",
    "            SaveImaged(keys=\"pred\", output_dir=output_dir, output_postfix=\"seg\", resample=False),\n",
    "        ]\n",
    "    )\n",
    "\n",
    "    device = torch.device(\"cuda\" if torch.cuda.is_available() else \"cpu\")\n",
    "    # net = AW_UNet(\n",
    "    #     spatial_dims=3,\n",
    "    #     in_channels=1,\n",
    "    #     out_channels=3,\n",
    "    #     channels=[16, 32, 64, 128, 256, 512],\n",
    "    #     strides=[2, 2, 2, 2, 2],\n",
    "    #     num_res_units=4,\n",
    "    #     act=Act.PRELU,\n",
    "    #     norm=Norm.BATCH,\n",
    "    #     dropout=0.15,\n",
    "    #     use_checkpoint=False\n",
    "    # ).to(device)\n",
    "    # net.load_state_dict(torch.load(\"/home/data/wan/prostate158/models/network_pp_aw_dou_seed0_1_key_metric=0.8198.pt\"))\n",
    "\n",
    "\n",
    "    net.eval()\n",
    "    with torch.no_grad():\n",
    "        for d in tqdm(dataloader):\n",
    "            images = d[\"img\"].to(device)\n",
    "            # define sliding window size and batch size for windows inference\n",
    "            d[\"pred\"] = sliding_window_inference(inputs=images, roi_size=(96, 96, 96), sw_batch_size=4, overlap=0.5, predictor=net)\n",
    "            # decollate the batch data into a list of dictionaries, then execute postprocessing transforms\n",
    "            d = [post_transforms(i) for i in decollate_batch(d)]"
   ]
  },
  {
   "cell_type": "code",
   "execution_count": 8,
   "metadata": {},
   "outputs": [
    {
     "name": "stderr",
     "output_type": "stream",
     "text": [
      "  0%|          | 0/19 [00:00<?, ?it/s]"
     ]
    },
    {
     "name": "stdout",
     "output_type": "stream",
     "text": [
      "2024-03-29 09:05:35,756 INFO image_writer.py:197 - writing: /home/skyous/git/prostate158/vision/pred/mixunetr/image_001/image_001_seg.nii.gz\n"
     ]
    },
    {
     "name": "stderr",
     "output_type": "stream",
     "text": [
      "  5%|▌         | 1/19 [00:08<02:40,  8.94s/it]"
     ]
    },
    {
     "name": "stdout",
     "output_type": "stream",
     "text": [
      "2024-03-29 09:05:38,647 INFO image_writer.py:197 - writing: /home/skyous/git/prostate158/vision/pred/mixunetr/image_002/image_002_seg.nii.gz\n"
     ]
    },
    {
     "name": "stderr",
     "output_type": "stream",
     "text": [
      " 11%|█         | 2/19 [00:11<01:32,  5.45s/it]"
     ]
    },
    {
     "name": "stdout",
     "output_type": "stream",
     "text": [
      "2024-03-29 09:05:42,031 INFO image_writer.py:197 - writing: /home/skyous/git/prostate158/vision/pred/mixunetr/image_003/image_003_seg.nii.gz\n"
     ]
    },
    {
     "name": "stderr",
     "output_type": "stream",
     "text": [
      " 16%|█▌        | 3/19 [00:15<01:11,  4.49s/it]"
     ]
    },
    {
     "name": "stdout",
     "output_type": "stream",
     "text": [
      "2024-03-29 09:05:46,230 INFO image_writer.py:197 - writing: /home/skyous/git/prostate158/vision/pred/mixunetr/image_004/image_004_seg.nii.gz\n"
     ]
    },
    {
     "name": "stderr",
     "output_type": "stream",
     "text": [
      " 21%|██        | 4/19 [00:19<01:05,  4.38s/it]"
     ]
    },
    {
     "name": "stdout",
     "output_type": "stream",
     "text": [
      "2024-03-29 09:05:50,595 INFO image_writer.py:197 - writing: /home/skyous/git/prostate158/vision/pred/mixunetr/image_005/image_005_seg.nii.gz\n"
     ]
    },
    {
     "name": "stderr",
     "output_type": "stream",
     "text": [
      " 26%|██▋       | 5/19 [00:23<01:00,  4.35s/it]"
     ]
    },
    {
     "name": "stdout",
     "output_type": "stream",
     "text": [
      "2024-03-29 09:05:55,047 INFO image_writer.py:197 - writing: /home/skyous/git/prostate158/vision/pred/mixunetr/image_006/image_006_seg.nii.gz\n"
     ]
    },
    {
     "name": "stderr",
     "output_type": "stream",
     "text": [
      " 32%|███▏      | 6/19 [00:28<00:57,  4.40s/it]"
     ]
    },
    {
     "name": "stdout",
     "output_type": "stream",
     "text": [
      "2024-03-29 09:05:59,927 INFO image_writer.py:197 - writing: /home/skyous/git/prostate158/vision/pred/mixunetr/image_007/image_007_seg.nii.gz\n"
     ]
    },
    {
     "name": "stderr",
     "output_type": "stream",
     "text": [
      " 37%|███▋      | 7/19 [00:33<00:55,  4.61s/it]"
     ]
    },
    {
     "name": "stdout",
     "output_type": "stream",
     "text": [
      "2024-03-29 09:06:04,332 INFO image_writer.py:197 - writing: /home/skyous/git/prostate158/vision/pred/mixunetr/image_008/image_008_seg.nii.gz\n"
     ]
    },
    {
     "name": "stderr",
     "output_type": "stream",
     "text": [
      " 42%|████▏     | 8/19 [00:37<00:49,  4.51s/it]"
     ]
    },
    {
     "name": "stdout",
     "output_type": "stream",
     "text": [
      "2024-03-29 09:06:08,738 INFO image_writer.py:197 - writing: /home/skyous/git/prostate158/vision/pred/mixunetr/image_009/image_009_seg.nii.gz\n"
     ]
    },
    {
     "name": "stderr",
     "output_type": "stream",
     "text": [
      " 47%|████▋     | 9/19 [00:41<00:44,  4.45s/it]"
     ]
    },
    {
     "name": "stdout",
     "output_type": "stream",
     "text": [
      "2024-03-29 09:06:13,320 INFO image_writer.py:197 - writing: /home/skyous/git/prostate158/vision/pred/mixunetr/image_010/image_010_seg.nii.gz\n"
     ]
    },
    {
     "name": "stderr",
     "output_type": "stream",
     "text": [
      " 53%|█████▎    | 10/19 [00:46<00:40,  4.52s/it]"
     ]
    },
    {
     "name": "stdout",
     "output_type": "stream",
     "text": [
      "2024-03-29 09:06:18,045 INFO image_writer.py:197 - writing: /home/skyous/git/prostate158/vision/pred/mixunetr/image_011/image_011_seg.nii.gz\n"
     ]
    },
    {
     "name": "stderr",
     "output_type": "stream",
     "text": [
      " 58%|█████▊    | 11/19 [00:51<00:36,  4.54s/it]"
     ]
    },
    {
     "name": "stdout",
     "output_type": "stream",
     "text": [
      "2024-03-29 09:06:21,139 INFO image_writer.py:197 - writing: /home/skyous/git/prostate158/vision/pred/mixunetr/image_012/image_012_seg.nii.gz\n"
     ]
    },
    {
     "name": "stderr",
     "output_type": "stream",
     "text": [
      " 63%|██████▎   | 12/19 [00:54<00:28,  4.13s/it]"
     ]
    },
    {
     "name": "stdout",
     "output_type": "stream",
     "text": [
      "2024-03-29 09:06:24,208 INFO image_writer.py:197 - writing: /home/skyous/git/prostate158/vision/pred/mixunetr/image_013/image_013_seg.nii.gz\n"
     ]
    },
    {
     "name": "stderr",
     "output_type": "stream",
     "text": [
      " 68%|██████▊   | 13/19 [00:57<00:22,  3.80s/it]"
     ]
    },
    {
     "name": "stdout",
     "output_type": "stream",
     "text": [
      "2024-03-29 09:06:28,787 INFO image_writer.py:197 - writing: /home/skyous/git/prostate158/vision/pred/mixunetr/image_014/image_014_seg.nii.gz\n"
     ]
    },
    {
     "name": "stderr",
     "output_type": "stream",
     "text": [
      " 74%|███████▎  | 14/19 [01:02<00:20,  4.08s/it]"
     ]
    },
    {
     "name": "stdout",
     "output_type": "stream",
     "text": [
      "2024-03-29 09:06:31,977 INFO image_writer.py:197 - writing: /home/skyous/git/prostate158/vision/pred/mixunetr/image_015/image_015_seg.nii.gz\n"
     ]
    },
    {
     "name": "stderr",
     "output_type": "stream",
     "text": [
      " 79%|███████▉  | 15/19 [01:05<00:15,  3.77s/it]"
     ]
    },
    {
     "name": "stdout",
     "output_type": "stream",
     "text": [
      "2024-03-29 09:06:36,762 INFO image_writer.py:197 - writing: /home/skyous/git/prostate158/vision/pred/mixunetr/image_016/image_016_seg.nii.gz\n"
     ]
    },
    {
     "name": "stderr",
     "output_type": "stream",
     "text": [
      " 84%|████████▍ | 16/19 [01:10<00:12,  4.09s/it]"
     ]
    },
    {
     "name": "stdout",
     "output_type": "stream",
     "text": [
      "2024-03-29 09:06:41,189 INFO image_writer.py:197 - writing: /home/skyous/git/prostate158/vision/pred/mixunetr/image_017/image_017_seg.nii.gz\n"
     ]
    },
    {
     "name": "stderr",
     "output_type": "stream",
     "text": [
      " 89%|████████▉ | 17/19 [01:14<00:08,  4.19s/it]"
     ]
    },
    {
     "name": "stdout",
     "output_type": "stream",
     "text": [
      "2024-03-29 09:06:45,838 INFO image_writer.py:197 - writing: /home/skyous/git/prostate158/vision/pred/mixunetr/image_018/image_018_seg.nii.gz\n"
     ]
    },
    {
     "name": "stderr",
     "output_type": "stream",
     "text": [
      " 95%|█████████▍| 18/19 [01:19<00:04,  4.32s/it]"
     ]
    },
    {
     "name": "stdout",
     "output_type": "stream",
     "text": [
      "2024-03-29 09:06:50,245 INFO image_writer.py:197 - writing: /home/skyous/git/prostate158/vision/pred/mixunetr/image_019/image_019_seg.nii.gz\n"
     ]
    },
    {
     "name": "stderr",
     "output_type": "stream",
     "text": [
      "100%|██████████| 19/19 [01:23<00:00,  4.40s/it]\n"
     ]
    }
   ],
   "source": [
    "network= \"mixunetr\"\n",
    "model = get_model(network).to(device)\n",
    "\n",
    "model.load_state_dict(torch.load(\"/home/data1/skyous/prostate158_log/checkpoint/mixunetr_qkv_0.8253.pt\"))\n",
    "\n",
    "tempdir = \"/home/skyous/git/prostate158/vision/001_img\"\n",
    "output_dir = os.path.join('/home/skyous/git/prostate158/vision/pred/', network)\n",
    "main(tempdir, model, output_dir)"
   ]
  },
  {
   "cell_type": "code",
   "execution_count": 4,
   "metadata": {},
   "outputs": [
    {
     "name": "stdout",
     "output_type": "stream",
     "text": [
      "/home/skyous/git/prostate158/vision/img/image_005.nii.gz\n",
      "/home/skyous/git/prostate158/vision/img/image_009.nii.gz\n",
      "/home/skyous/git/prostate158/vision/img/image_012.nii.gz\n",
      "/home/skyous/git/prostate158/vision/img/image_008.nii.gz\n",
      "/home/skyous/git/prostate158/vision/img/image_014.nii.gz\n",
      "/home/skyous/git/prostate158/vision/img/image_016.nii.gz\n",
      "/home/skyous/git/prostate158/vision/img/image_015.nii.gz\n",
      "/home/skyous/git/prostate158/vision/img/image_007.nii.gz\n",
      "/home/skyous/git/prostate158/vision/img/image_019.nii.gz\n",
      "/home/skyous/git/prostate158/vision/img/image_013.nii.gz\n",
      "/home/skyous/git/prostate158/vision/img/image_011.nii.gz\n",
      "/home/skyous/git/prostate158/vision/img/image_017.nii.gz\n",
      "/home/skyous/git/prostate158/vision/img/image_006.nii.gz\n",
      "/home/skyous/git/prostate158/vision/img/image_010.nii.gz\n",
      "/home/skyous/git/prostate158/vision/img/image_003.nii.gz\n",
      "/home/skyous/git/prostate158/vision/img/image_001.nii.gz\n",
      "/home/skyous/git/prostate158/vision/img/image_002.nii.gz\n",
      "/home/skyous/git/prostate158/vision/img/image_004.nii.gz\n",
      "/home/skyous/git/prostate158/vision/img/image_018.nii.gz\n"
     ]
    }
   ],
   "source": [
    "import shutil\n",
    "import os\n",
    "for root, dirs, files in os.walk('/home/data1/skyous/prostate158/test'):\n",
    "    for file in files:\n",
    "        if file.endswith(\"t2.nii.gz\"):\n",
    "            file_path = os.path.join(root, file)\n",
    "            dst_path = os.path.join('/home/skyous/git/prostate158/vision/img', 'image_'+file_path.split('/')[-2]+\".nii.gz\")\n",
    "            print(dst_path)\n",
    "            shutil.copy(file_path, dst_path)\n",
    "            # file_list.append(file_path)\n",
    "\n"
   ]
  },
  {
   "cell_type": "code",
   "execution_count": 5,
   "metadata": {},
   "outputs": [
    {
     "name": "stdout",
     "output_type": "stream",
     "text": [
      "/home/skyous/git/prostate158/vision/label/label_005.nii.gz\n",
      "/home/skyous/git/prostate158/vision/label/label_009.nii.gz\n",
      "/home/skyous/git/prostate158/vision/label/label_012.nii.gz\n",
      "/home/skyous/git/prostate158/vision/label/label_008.nii.gz\n",
      "/home/skyous/git/prostate158/vision/label/label_014.nii.gz\n",
      "/home/skyous/git/prostate158/vision/label/label_016.nii.gz\n",
      "/home/skyous/git/prostate158/vision/label/label_015.nii.gz\n",
      "/home/skyous/git/prostate158/vision/label/label_007.nii.gz\n",
      "/home/skyous/git/prostate158/vision/label/label_019.nii.gz\n",
      "/home/skyous/git/prostate158/vision/label/label_013.nii.gz\n",
      "/home/skyous/git/prostate158/vision/label/label_011.nii.gz\n",
      "/home/skyous/git/prostate158/vision/label/label_017.nii.gz\n",
      "/home/skyous/git/prostate158/vision/label/label_006.nii.gz\n",
      "/home/skyous/git/prostate158/vision/label/label_010.nii.gz\n",
      "/home/skyous/git/prostate158/vision/label/label_003.nii.gz\n",
      "/home/skyous/git/prostate158/vision/label/label_001.nii.gz\n",
      "/home/skyous/git/prostate158/vision/label/label_002.nii.gz\n",
      "/home/skyous/git/prostate158/vision/label/label_004.nii.gz\n",
      "/home/skyous/git/prostate158/vision/label/label_018.nii.gz\n"
     ]
    }
   ],
   "source": [
    "import shutil\n",
    "import os\n",
    "for root, dirs, files in os.walk('/home/data1/skyous/prostate158/test'):\n",
    "    for file in files:\n",
    "        if file.endswith(\"t2_anatomy_reader1.nii.gz\"):\n",
    "            file_path = os.path.join(root, file)\n",
    "            dst_path = os.path.join('/home/skyous/git/prostate158/vision/label', 'label_'+file_path.split('/')[-2]+\".nii.gz\")\n",
    "            print(dst_path)\n",
    "            shutil.copy(file_path, dst_path)"
   ]
  },
  {
   "cell_type": "code",
   "execution_count": null,
   "metadata": {},
   "outputs": [],
   "source": [
    "\n"
   ]
  },
  {
   "cell_type": "markdown",
   "metadata": {},
   "source": [
    "# no use"
   ]
  },
  {
   "cell_type": "code",
   "execution_count": 23,
   "metadata": {},
   "outputs": [],
   "source": [
    "import SimpleITK as sitk"
   ]
  },
  {
   "cell_type": "code",
   "execution_count": 35,
   "metadata": {},
   "outputs": [
    {
     "name": "stdout",
     "output_type": "stream",
     "text": [
      "Image Direction: (0.9997967872407916, -0.018594690540259643, 0.007785999245346475, 0.02014630672171616, 0.9079458553698535, -0.41860296587128026, 0.0007145267425893094, 0.4186747678095934, 0.9081359673416306)\n",
      "Label Direction: (0.9997968500287552, -0.018591595841661694, 0.007785319692728036, 0.020143214590042282, 0.9079459360713122, -0.41860294294653744, 0.0007138477137779891, 0.4186747302329682, 0.9081359837346937)\n"
     ]
    }
   ],
   "source": [
    "\n",
    "\n",
    "# 读取图像和标签\n",
    "image = sitk.ReadImage(\"/home/data1/skyous/SouthHP_prostate/sort_crop/images/image_113.nii.gz\")\n",
    "label = sitk.ReadImage(\"/home/data1/skyous/SouthHP_prostate/sort_crop/labels/label_113.nii.gz\")\n",
    "print(\"Image Direction:\", image.GetDirection())\n",
    "print(\"Label Direction:\", label.GetDirection())\n",
    "\n",
    "# 调整图像和标签的方向\n",
    "# flipped_image = sitk.Flip(image, [True, True, False])  # 在x和y轴上进行翻转\n",
    "flipped_label = sitk.Flip(label, [True, False, True])  # 在x和y轴上进行翻转\n",
    "\n",
    "# 可视化调整后的图像和标签\n",
    "# sitk.Show(flipped_image, title=\"Flipped Image\")\n",
    "# sitk.Show(flipped_label, title=\"Flipped Label\")\n",
    "sitk.WriteImage(flipped_label, \"./predict/debug/label_113.nii.gz\")\n"
   ]
  },
  {
   "cell_type": "code",
   "execution_count": 26,
   "metadata": {},
   "outputs": [],
   "source": [
    "sitk.WriteImage(flipped_label, \"./predict/debug/label_113.nii.gz\")\n"
   ]
  },
  {
   "cell_type": "code",
   "execution_count": 46,
   "metadata": {},
   "outputs": [],
   "source": [
    "\n",
    "import shutil\n",
    "order_list = [6,8,15,22,23,33,72,103,122,113,35,47,54,55,60,66]\n",
    "\n",
    "\n",
    "\n",
    "for num in order_list:\n",
    "    order_label_name = \"label_\" + str(num).zfill(3) + \".nii.gz\"\n",
    "    order_image_name = \"image_\" + str(num).zfill(3) + \".nii.gz\"\n",
    "    label_path = os.path.join(\"/home/data1/skyous/SouthHP_prostate/sort_crop/labels\", order_label_name)\n",
    "    image_path = os.path.join(\"/home/data1/skyous/SouthHP_prostate/sort_crop/images\", order_image_name)\n",
    "\n",
    "    label = sitk.ReadImage(label_path)\n",
    "    flipped_label = sitk.Flip(label, [True, False, True])\n",
    "\n",
    "    os.makedirs(\"./predict/debug/newlabel/\", exist_ok=True)\n",
    "    os.makedirs(\"./predict/debug/newimage/\", exist_ok=True)\n",
    "\n",
    "    sitk.WriteImage(flipped_label, os.path.join(\"./predict/debug/newlabel/\", order_label_name))\n",
    "\n",
    "    new_image_path = os.path.join(\"./predict/debug/newimage/\", order_image_name)\n",
    "    shutil.copy(image_path, new_image_path)\n",
    "    \n",
    "\n",
    "    \n",
    "\n",
    "# glob(os.path.join(tempdir, \"*.nii.gz\"))"
   ]
  },
  {
   "cell_type": "code",
   "execution_count": 49,
   "metadata": {},
   "outputs": [
    {
     "name": "stdout",
     "output_type": "stream",
     "text": [
      "006, 008, 015, 022, 023, 033, 072, 103, 122, 113, 035, 047, 054, 055, 060, 066\n"
     ]
    }
   ],
   "source": [
    "import os\n",
    "order_list = [6,8,15,22,23,33,72,103,122,113,35,47,54,55,60,66]\n",
    "\n",
    "order_list = [str(num).zfill(3) for num in order_list]\n",
    "order_list_str = ', '.join(order_list)\n",
    "print(order_list_str)\n",
    "\n",
    "# Define the directory path\n",
    "directory = \"/home/data1/skyous/SouthHP_prostate/sort_crop_v2/labels\"\n",
    "\n",
    "# Iterate over the files in the directory\n",
    "for filename in os.listdir(directory):\n",
    "    # Check if the filename contains any of the strings in order_list_str\n",
    "    if any(substr in filename for substr in order_list_str.split(\", \")):\n",
    "        # Delete the file\n",
    "        os.remove(os.path.join(directory, filename))\n",
    "\n"
   ]
  },
  {
   "cell_type": "code",
   "execution_count": 1,
   "metadata": {},
   "outputs": [
    {
     "name": "stdout",
     "output_type": "stream",
     "text": [
      "Deleting row with ID: 6 6\n",
      "Deleting row with ID: 8 8\n",
      "Deleting row with ID: 15 15\n",
      "Deleting row with ID: 22 22\n",
      "Deleting row with ID: 23 23\n",
      "Deleting row with ID: 33 33\n",
      "Deleting row with ID: 35 35\n",
      "Deleting row with ID: 47 47\n",
      "Deleting row with ID: 54 54\n",
      "Deleting row with ID: 55 55\n",
      "Deleting row with ID: 60 60\n",
      "Deleting row with ID: 66 66\n",
      "Deleting row with ID: 72 72\n",
      "Deleting row with ID: 103 103\n",
      "Deleting row with ID: 113 113\n",
      "Deleting row with ID: 122 122\n"
     ]
    }
   ],
   "source": [
    "import pandas as pd\n",
    "order_list = [6,8,15,22,23,33,72,103,122,113,35,47,54,55,60,66]\n",
    "# Read the CSV file\n",
    "df = pd.read_csv(\"southHP_predict/all_v3.csv\")\n",
    "\n",
    "# Create a list to hold the rows to be deleted\n",
    "rows_to_delete = []\n",
    "\n",
    "# Iterate over each row\n",
    "for index, row in df.iterrows():\n",
    "    # Check if the ID exists in the order_list\n",
    "    if row['ID'] in order_list:\n",
    "        print(f\"Deleting row with ID: {row['ID']}\", index)\n",
    "        # Add the index to the list\n",
    "        rows_to_delete.append(index)\n",
    "\n",
    "# Delete the rows\n",
    "df.drop(rows_to_delete, inplace=True)\n",
    "\n",
    "# Save the modified dataframe to a new CSV file\n",
    "df.to_csv(\"southHP_predict/all_v4.csv\", index=False)"
   ]
  },
  {
   "cell_type": "code",
   "execution_count": null,
   "metadata": {},
   "outputs": [],
   "source": []
  }
 ],
 "metadata": {
  "kernelspec": {
   "display_name": "timm",
   "language": "python",
   "name": "python3"
  },
  "language_info": {
   "codemirror_mode": {
    "name": "ipython",
    "version": 3
   },
   "file_extension": ".py",
   "mimetype": "text/x-python",
   "name": "python",
   "nbconvert_exporter": "python",
   "pygments_lexer": "ipython3",
   "version": "3.8.17"
  }
 },
 "nbformat": 4,
 "nbformat_minor": 2
}
