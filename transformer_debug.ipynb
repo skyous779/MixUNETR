{
 "cells": [
  {
   "cell_type": "code",
   "execution_count": 5,
   "metadata": {},
   "outputs": [
    {
     "name": "stdout",
     "output_type": "stream",
     "text": [
      "torch.Size([1, 1, 96, 96, 96])\n"
     ]
    }
   ],
   "source": [
    "import torch\n",
    "input = torch.randn(1, 1, 96, 96, 96)\n",
    "print(input.shape)\n",
    "from torchkeras import summary\n",
    "from thop import profile\n",
    "from monai.networks.nets import SwinUNETR\n",
    "# from prostate158.network.davitUNETR_v3_2_dca import davitUNETR, ChannelBlock, SpatialBlock\n",
    "import torch.nn as nn\n",
    "import torch.nn.functional as F\n"
   ]
  },
  {
   "cell_type": "code",
   "execution_count": 2,
   "metadata": {},
   "outputs": [
    {
     "name": "stdout",
     "output_type": "stream",
     "text": [
      "torch.Size([343, 343, 96])\n"
     ]
    }
   ],
   "source": [
    "Y1 = torch.randn(343,343,48)\n",
    "Y2 = torch.randn(343,343,48)\n",
    "\n",
    "advavgpool = nn.AdaptiveAvgPool2d(1)\n",
    "out = torch.cat([Y1,Y2], dim=2)\n",
    "print(out.shape)"
   ]
  },
  {
   "cell_type": "code",
   "execution_count": 6,
   "metadata": {},
   "outputs": [],
   "source": [
    "# advavgpool(out).shape\n",
    "out     = F.softmax(advavgpool(out), dim=2 ) * out"
   ]
  },
  {
   "cell_type": "code",
   "execution_count": 8,
   "metadata": {},
   "outputs": [],
   "source": [
    "out1,out2 = torch.split(out,out.size(2)//2,dim=2)"
   ]
  },
  {
   "cell_type": "code",
   "execution_count": 9,
   "metadata": {},
   "outputs": [
    {
     "data": {
      "text/plain": [
       "(torch.Size([343, 343, 48]), torch.Size([343, 343, 48]))"
      ]
     },
     "execution_count": 9,
     "metadata": {},
     "output_type": "execute_result"
    }
   ],
   "source": []
  },
  {
   "cell_type": "code",
   "execution_count": 21,
   "metadata": {},
   "outputs": [],
   "source": [
    "model1 = SpatialBlock(\n",
    "            dim=96,\n",
    "            num_heads=3,\n",
    "            window_size=(7,7,7),\n",
    "            shift_size=(0,0,0), # if (i % 2 == 0) else self.shift_size, \n",
    "            mlp_ratio=4.0,\n",
    "            qkv_bias=True,\n",
    "            drop=0.0,\n",
    "            attn_drop=0.0,\n",
    "            drop_path=0.0,\n",
    "            norm_layer=nn.LayerNorm,\n",
    "            use_checkpoint=False,\n",
    "            qkv_mode='',\n",
    "                ).to('cpu')\n",
    "\n",
    "model2 = ChannelBlock(\n",
    "            dim=96,\n",
    "            num_heads=3,\n",
    "            mlp_ratio=4.0,\n",
    "            qkv_bias=True,\n",
    "            drop_path=0.0,\n",
    "            norm_layer=nn.LayerNorm,\n",
    "            ffn=True,\n",
    "            qkv_mode='',\n",
    "            ).to('cpu')"
   ]
  },
  {
   "cell_type": "code",
   "execution_count": 22,
   "metadata": {},
   "outputs": [],
   "source": [
    "input = torch.randn(2, 24, 24, 24, 96)\n",
    "attn_mask = torch.zeros(343,343,343)\n",
    "output = model1(input, attn_mask)"
   ]
  },
  {
   "cell_type": "code",
   "execution_count": 23,
   "metadata": {},
   "outputs": [
    {
     "name": "stdout",
     "output_type": "stream",
     "text": [
      "[INFO] Register count_normalization() for <class 'torch.nn.modules.normalization.LayerNorm'>.\n",
      "[INFO] Register count_linear() for <class 'torch.nn.modules.linear.Linear'>.\n",
      "[INFO] Register zero_ops() for <class 'torch.nn.modules.dropout.Dropout'>.\n",
      "[INFO] Register count_softmax() for <class 'torch.nn.modules.activation.Softmax'>.\n",
      "[INFO] Register count_convNd() for <class 'torch.nn.modules.conv.Conv3d'>.\n",
      "FLOPs = 3.956869632G\n",
      "Params = 0.117216M\n",
      "--------------------------------------------------------------------------\n",
      "Layer (type)                            Output Shape              Param #\n",
      "==========================================================================\n",
      "Conv3d-1                        [-1, 96, 24, 24, 24]                2,688\n",
      "LayerNorm-2                          [-1, 13824, 96]                  192\n",
      "Linear-3                              [-1, 343, 288]               27,936\n",
      "Softmax-4                          [-1, 3, 343, 343]                    0\n",
      "Dropout-5                          [-1, 3, 343, 343]                    0\n",
      "Linear-6                               [-1, 343, 96]                9,312\n",
      "Dropout-7                              [-1, 343, 96]                    0\n",
      "Identity-8                           [-1, 13824, 96]                    0\n",
      "Conv3d-9                        [-1, 96, 24, 24, 24]                2,688\n",
      "Identity-10                     [-1, 24, 24, 24, 96]                    0\n",
      "LayerNorm-11                    [-1, 24, 24, 24, 96]                  192\n",
      "Linear-12                       [-1, 24, 24, 24, 384]               37,248\n",
      "GELU-13                         [-1, 24, 24, 24, 384]                    0\n",
      "Dropout-14                      [-1, 24, 24, 24, 384]                    0\n",
      "Linear-15                       [-1, 24, 24, 24, 96]               36,960\n",
      "Dropout-16                      [-1, 24, 24, 24, 96]                    0\n",
      "Identity-17                     [-1, 24, 24, 24, 96]                    0\n",
      "==========================================================================\n",
      "Total params: 117,216\n",
      "Trainable params: 117,216\n",
      "Non-trainable params: 0\n",
      "--------------------------------------------------------------------------\n",
      "Input size (MB): 0.000000\n",
      "Forward/backward pass size (MB): 219.266647\n",
      "Params size (MB): 0.447144\n",
      "Estimated Total Size (MB): 219.713791\n",
      "--------------------------------------------------------------------------\n"
     ]
    },
    {
     "data": {
      "text/plain": [
       "'--------------------------------------------------------------------------\\nLayer (type)                            Output Shape              Param #\\n==========================================================================\\nConv3d-1                        [-1, 96, 24, 24, 24]                2,688\\nLayerNorm-2                          [-1, 13824, 96]                  192\\nLinear-3                              [-1, 343, 288]               27,936\\nSoftmax-4                          [-1, 3, 343, 343]                    0\\nDropout-5                          [-1, 3, 343, 343]                    0\\nLinear-6                               [-1, 343, 96]                9,312\\nDropout-7                              [-1, 343, 96]                    0\\nIdentity-8                           [-1, 13824, 96]                    0\\nConv3d-9                        [-1, 96, 24, 24, 24]                2,688\\nIdentity-10                     [-1, 24, 24, 24, 96]                    0\\nLayerNorm-11                    [-1, 24, 24, 24, 96]                  192\\nLinear-12                       [-1, 24, 24, 24, 384]               37,248\\nGELU-13                         [-1, 24, 24, 24, 384]                    0\\nDropout-14                      [-1, 24, 24, 24, 384]                    0\\nLinear-15                       [-1, 24, 24, 24, 96]               36,960\\nDropout-16                      [-1, 24, 24, 24, 96]                    0\\nIdentity-17                     [-1, 24, 24, 24, 96]                    0\\n==========================================================================\\nTotal params: 117,216\\nTrainable params: 117,216\\nNon-trainable params: 0\\n--------------------------------------------------------------------------\\nInput size (MB): 0.000000\\nForward/backward pass size (MB): 219.266647\\nParams size (MB): 0.447144\\nEstimated Total Size (MB): 219.713791\\n--------------------------------------------------------------------------'"
      ]
     },
     "execution_count": 23,
     "metadata": {},
     "output_type": "execute_result"
    }
   ],
   "source": [
    "flops, params = profile(model1, inputs=(input,attn_mask))\n",
    "print('FLOPs = ' + str(flops/1000**3) + 'G')\n",
    "print('Params = ' + str(params/1000**2) + 'M')\n",
    "from torchkeras import summary\n",
    "summary(model1, input_data_args=(input,attn_mask))"
   ]
  },
  {
   "cell_type": "code",
   "execution_count": 24,
   "metadata": {},
   "outputs": [
    {
     "name": "stdout",
     "output_type": "stream",
     "text": [
      "[INFO] Register count_convNd() for <class 'torch.nn.modules.conv.Conv3d'>.\n",
      "[INFO] Register count_normalization() for <class 'torch.nn.modules.normalization.LayerNorm'>.\n",
      "[INFO] Register count_linear() for <class 'torch.nn.modules.linear.Linear'>.\n",
      "[INFO] Register zero_ops() for <class 'torch.nn.modules.dropout.Dropout'>.\n",
      "FLOPs = 3.222208512G\n",
      "Params = 0.117216M\n",
      "--------------------------------------------------------------------------\n",
      "Layer (type)                            Output Shape              Param #\n",
      "==========================================================================\n",
      "Conv3d-1                        [-1, 96, 24, 24, 24]                2,688\n",
      "LayerNorm-2                          [-1, 13824, 96]                  192\n",
      "Linear-3                            [-1, 13824, 288]               27,936\n",
      "Linear-4                             [-1, 13824, 96]                9,312\n",
      "Identity-5                           [-1, 13824, 96]                    0\n",
      "Conv3d-6                        [-1, 96, 24, 24, 24]                2,688\n",
      "LayerNorm-7                          [-1, 13824, 96]                  192\n",
      "Linear-8                            [-1, 13824, 384]               37,248\n",
      "GELU-9                              [-1, 13824, 384]                    0\n",
      "Dropout-10                          [-1, 13824, 384]                    0\n",
      "Linear-11                            [-1, 13824, 96]               36,960\n",
      "Dropout-12                           [-1, 13824, 96]                    0\n",
      "Identity-13                          [-1, 13824, 96]                    0\n",
      "==========================================================================\n",
      "Total params: 117,216\n",
      "Trainable params: 117,216\n",
      "Non-trainable params: 0\n",
      "--------------------------------------------------------------------------\n",
      "Input size (MB): 0.000000\n",
      "Forward/backward pass size (MB): 243.000000\n",
      "Params size (MB): 0.447144\n",
      "Estimated Total Size (MB): 243.447144\n",
      "--------------------------------------------------------------------------\n"
     ]
    },
    {
     "data": {
      "text/plain": [
       "'--------------------------------------------------------------------------\\nLayer (type)                            Output Shape              Param #\\n==========================================================================\\nConv3d-1                        [-1, 96, 24, 24, 24]                2,688\\nLayerNorm-2                          [-1, 13824, 96]                  192\\nLinear-3                            [-1, 13824, 288]               27,936\\nLinear-4                             [-1, 13824, 96]                9,312\\nIdentity-5                           [-1, 13824, 96]                    0\\nConv3d-6                        [-1, 96, 24, 24, 24]                2,688\\nLayerNorm-7                          [-1, 13824, 96]                  192\\nLinear-8                            [-1, 13824, 384]               37,248\\nGELU-9                              [-1, 13824, 384]                    0\\nDropout-10                          [-1, 13824, 384]                    0\\nLinear-11                            [-1, 13824, 96]               36,960\\nDropout-12                           [-1, 13824, 96]                    0\\nIdentity-13                          [-1, 13824, 96]                    0\\n==========================================================================\\nTotal params: 117,216\\nTrainable params: 117,216\\nNon-trainable params: 0\\n--------------------------------------------------------------------------\\nInput size (MB): 0.000000\\nForward/backward pass size (MB): 243.000000\\nParams size (MB): 0.447144\\nEstimated Total Size (MB): 243.447144\\n--------------------------------------------------------------------------'"
      ]
     },
     "execution_count": 24,
     "metadata": {},
     "output_type": "execute_result"
    }
   ],
   "source": [
    "flops, params = profile(model2, inputs=(input,attn_mask))\n",
    "print('FLOPs = ' + str(flops/1000**3) + 'G')\n",
    "print('Params = ' + str(params/1000**2) + 'M')\n",
    "from torchkeras import summary\n",
    "summary(model2, input_data_args=(input,attn_mask))"
   ]
  },
  {
   "cell_type": "code",
   "execution_count": null,
   "metadata": {},
   "outputs": [],
   "source": []
  }
 ],
 "metadata": {
  "kernelspec": {
   "display_name": "timm",
   "language": "python",
   "name": "python3"
  },
  "language_info": {
   "codemirror_mode": {
    "name": "ipython",
    "version": 3
   },
   "file_extension": ".py",
   "mimetype": "text/x-python",
   "name": "python",
   "nbconvert_exporter": "python",
   "pygments_lexer": "ipython3",
   "version": "3.8.17"
  }
 },
 "nbformat": 4,
 "nbformat_minor": 2
}
